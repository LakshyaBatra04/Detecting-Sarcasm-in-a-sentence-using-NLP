{
 "cells": [
  {
   "cell_type": "code",
   "execution_count": null,
   "metadata": {},
   "outputs": [
    {
     "name": "stdout",
     "output_type": "stream",
     "text": [
      "WARNING:tensorflow:From c:\\Users\\Lakshya Batra\\AppData\\Local\\Programs\\Python\\Python311\\Lib\\site-packages\\keras\\src\\losses.py:2976: The name tf.losses.sparse_softmax_cross_entropy is deprecated. Please use tf.compat.v1.losses.sparse_softmax_cross_entropy instead.\n",
      "\n"
     ]
    }
   ],
   "source": [
    "import json\n",
    "import tensorflow as tf;\n",
    "from tensorflow.keras.preprocessing.text import Tokenizer\n",
    "from tensorflow.keras.preprocessing.sequence import pad_sequences"
   ]
  },
  {
   "cell_type": "code",
   "execution_count": 2,
   "metadata": {},
   "outputs": [],
   "source": [
    "import json\n",
    "\n",
    "sentences = []\n",
    "labels = []\n",
    "\n",
    "with open(\"Sarcasm_Headlines_Dataset_v2.json\", 'r') as f:\n",
    "    for line in f:\n",
    "        item = json.loads(line)\n",
    "        sentences.append(item[\"headline\"])\n",
    "        labels.append(item['is_sarcastic'])\n"
   ]
  },
  {
   "cell_type": "code",
   "execution_count": 3,
   "metadata": {},
   "outputs": [
    {
     "data": {
      "text/plain": [
       "['thirtysomething scientists unveil doomsday clock of hair loss',\n",
       " 'dem rep. totally nails why congress is falling short on gender, racial equality',\n",
       " 'eat your veggies: 9 deliciously different recipes',\n",
       " 'inclement weather prevents liar from getting to work',\n",
       " \"mother comes pretty close to using word 'streaming' correctly\"]"
      ]
     },
     "execution_count": 3,
     "metadata": {},
     "output_type": "execute_result"
    }
   ],
   "source": [
    "sentences[:5]"
   ]
  },
  {
   "cell_type": "code",
   "execution_count": 9,
   "metadata": {},
   "outputs": [
    {
     "data": {
      "text/plain": [
       "[1, 0, 0, 1, 1]"
      ]
     },
     "execution_count": 9,
     "metadata": {},
     "output_type": "execute_result"
    }
   ],
   "source": [
    "labels[:5]"
   ]
  },
  {
   "cell_type": "code",
   "execution_count": 10,
   "metadata": {},
   "outputs": [],
   "source": [
    "training_size = 20000\n",
    "train_data = sentences[:training_size]\n",
    "test_data = sentences[training_size:]\n",
    "training_labels = labels[:training_size]\n",
    "test_labels = labels[training_size:]\n"
   ]
  },
  {
   "cell_type": "code",
   "execution_count": null,
   "metadata": {},
   "outputs": [],
   "source": [
    "max_words = 10000\n",
    "oov_tok = \"<OOV>\"\n",
    "\n",
    "tk =Tokenizer(num_words=max_words,oov_token=oov_tok)\n",
    "# oov token replaces any unseen word during testing. Hence, we generalize well.\n",
    "tk.fit_on_texts(train_data)"
   ]
  },
  {
   "cell_type": "code",
   "execution_count": null,
   "metadata": {},
   "outputs": [],
   "source": [
    "word_index = tk.word_index"
   ]
  },
  {
   "cell_type": "code",
   "execution_count": 13,
   "metadata": {},
   "outputs": [
    {
     "name": "stdout",
     "output_type": "stream",
     "text": [
      "[('<OOV>', 1), ('to', 2), ('of', 3), ('the', 4), ('in', 5)]\n"
     ]
    }
   ],
   "source": [
    "first_5_pairs = list(word_index.items())[:5]\n",
    "print(first_5_pairs)"
   ]
  },
  {
   "cell_type": "code",
   "execution_count": 14,
   "metadata": {},
   "outputs": [
    {
     "name": "stdout",
     "output_type": "stream",
     "text": [
      "Sequences: [[83, 1801, 1033, 12, 135]]\n"
     ]
    }
   ],
   "source": [
    "new_texts = [\"I enjoy learning new things\"]\n",
    "\n",
    "# Convert new texts to sequences\n",
    "sequences = tk.texts_to_sequences(new_texts)\n",
    "\n",
    "# Print word index and sequences\n",
    "\n",
    "print(\"Sequences:\", sequences)"
   ]
  },
  {
   "cell_type": "code",
   "execution_count": 15,
   "metadata": {},
   "outputs": [],
   "source": [
    "max_length = 100\n",
    "padding_type = 'post'\n",
    "trunc_type = 'post'\n",
    "training_sequences = tk.texts_to_sequences(train_data)\n",
    "training_padded = pad_sequences(training_sequences,maxlen=100,padding=padding_type,truncating=trunc_type)\n",
    "\n",
    "testing_sequences = tk.texts_to_sequences(test_data)\n",
    "testing_padded = pad_sequences(testing_sequences, maxlen=max_length, padding=padding_type, truncating=trunc_type)"
   ]
  },
  {
   "cell_type": "code",
   "execution_count": 16,
   "metadata": {},
   "outputs": [],
   "source": [
    "import numpy as np;\n",
    "training_padded = np.array(training_padded)\n",
    "training_labels = np.array(training_labels)\n",
    "testing_padded = np.array(testing_padded)\n",
    "test_labels = np.array(test_labels)\n"
   ]
  },
  {
   "cell_type": "code",
   "execution_count": 17,
   "metadata": {},
   "outputs": [
    {
     "name": "stdout",
     "output_type": "stream",
     "text": [
      "WARNING:tensorflow:From c:\\Users\\Lakshya Batra\\AppData\\Local\\Programs\\Python\\Python311\\Lib\\site-packages\\keras\\src\\backend.py:873: The name tf.get_default_graph is deprecated. Please use tf.compat.v1.get_default_graph instead.\n",
      "\n",
      "WARNING:tensorflow:From c:\\Users\\Lakshya Batra\\AppData\\Local\\Programs\\Python\\Python311\\Lib\\site-packages\\keras\\src\\optimizers\\__init__.py:309: The name tf.train.Optimizer is deprecated. Please use tf.compat.v1.train.Optimizer instead.\n",
      "\n"
     ]
    }
   ],
   "source": [
    "vocab_size = 10000\n",
    "embedding_dim = 16\n",
    "model = tf.keras.Sequential([\n",
    "    tf.keras.layers.Embedding(vocab_size, embedding_dim, input_length=max_length),\n",
    "    tf.keras.layers.GlobalAveragePooling1D(),\n",
    "    tf.keras.layers.Dense(24, activation='relu'),\n",
    "    tf.keras.layers.Dense(1, activation='sigmoid')\n",
    "])\n",
    "model.compile(loss='binary_crossentropy',optimizer='adam',metrics=['accuracy'])"
   ]
  },
  {
   "cell_type": "code",
   "execution_count": 18,
   "metadata": {},
   "outputs": [
    {
     "name": "stdout",
     "output_type": "stream",
     "text": [
      "Model: \"sequential\"\n",
      "_________________________________________________________________\n",
      " Layer (type)                Output Shape              Param #   \n",
      "=================================================================\n",
      " embedding (Embedding)       (None, 100, 16)           160000    \n",
      "                                                                 \n",
      " global_average_pooling1d (  (None, 16)                0         \n",
      " GlobalAveragePooling1D)                                         \n",
      "                                                                 \n",
      " dense (Dense)               (None, 24)                408       \n",
      "                                                                 \n",
      " dense_1 (Dense)             (None, 1)                 25        \n",
      "                                                                 \n",
      "=================================================================\n",
      "Total params: 160433 (626.69 KB)\n",
      "Trainable params: 160433 (626.69 KB)\n",
      "Non-trainable params: 0 (0.00 Byte)\n",
      "_________________________________________________________________\n"
     ]
    }
   ],
   "source": [
    "model.summary()\n"
   ]
  },
  {
   "cell_type": "code",
   "execution_count": 19,
   "metadata": {},
   "outputs": [
    {
     "name": "stdout",
     "output_type": "stream",
     "text": [
      "Epoch 1/30\n",
      "WARNING:tensorflow:From c:\\Users\\Lakshya Batra\\AppData\\Local\\Programs\\Python\\Python311\\Lib\\site-packages\\keras\\src\\utils\\tf_utils.py:492: The name tf.ragged.RaggedTensorValue is deprecated. Please use tf.compat.v1.ragged.RaggedTensorValue instead.\n",
      "\n",
      "WARNING:tensorflow:From c:\\Users\\Lakshya Batra\\AppData\\Local\\Programs\\Python\\Python311\\Lib\\site-packages\\keras\\src\\engine\\base_layer_utils.py:384: The name tf.executing_eagerly_outside_functions is deprecated. Please use tf.compat.v1.executing_eagerly_outside_functions instead.\n",
      "\n",
      "625/625 - 4s - loss: 0.6674 - accuracy: 0.5990 - val_loss: 0.5670 - val_accuracy: 0.7717 - 4s/epoch - 6ms/step\n",
      "Epoch 2/30\n",
      "625/625 - 2s - loss: 0.4234 - accuracy: 0.8316 - val_loss: 0.3723 - val_accuracy: 0.8417 - 2s/epoch - 4ms/step\n",
      "Epoch 3/30\n",
      "625/625 - 2s - loss: 0.3130 - accuracy: 0.8752 - val_loss: 0.3419 - val_accuracy: 0.8540 - 2s/epoch - 4ms/step\n",
      "Epoch 4/30\n",
      "625/625 - 2s - loss: 0.2607 - accuracy: 0.8982 - val_loss: 0.3307 - val_accuracy: 0.8587 - 2s/epoch - 4ms/step\n",
      "Epoch 5/30\n",
      "625/625 - 2s - loss: 0.2266 - accuracy: 0.9127 - val_loss: 0.3331 - val_accuracy: 0.8556 - 2s/epoch - 4ms/step\n",
      "Epoch 6/30\n",
      "625/625 - 3s - loss: 0.1995 - accuracy: 0.9252 - val_loss: 0.3387 - val_accuracy: 0.8558 - 3s/epoch - 4ms/step\n",
      "Epoch 7/30\n",
      "625/625 - 3s - loss: 0.1768 - accuracy: 0.9352 - val_loss: 0.3606 - val_accuracy: 0.8465 - 3s/epoch - 4ms/step\n",
      "Epoch 8/30\n",
      "625/625 - 2s - loss: 0.1595 - accuracy: 0.9421 - val_loss: 0.3673 - val_accuracy: 0.8499 - 2s/epoch - 4ms/step\n",
      "Epoch 9/30\n",
      "625/625 - 2s - loss: 0.1421 - accuracy: 0.9491 - val_loss: 0.4128 - val_accuracy: 0.8362 - 2s/epoch - 4ms/step\n",
      "Epoch 10/30\n",
      "625/625 - 2s - loss: 0.1314 - accuracy: 0.9539 - val_loss: 0.4067 - val_accuracy: 0.8437 - 2s/epoch - 4ms/step\n",
      "Epoch 11/30\n",
      "625/625 - 2s - loss: 0.1190 - accuracy: 0.9589 - val_loss: 0.4301 - val_accuracy: 0.8413 - 2s/epoch - 4ms/step\n",
      "Epoch 12/30\n",
      "625/625 - 2s - loss: 0.1080 - accuracy: 0.9631 - val_loss: 0.4727 - val_accuracy: 0.8323 - 2s/epoch - 4ms/step\n",
      "Epoch 13/30\n",
      "625/625 - 2s - loss: 0.1003 - accuracy: 0.9665 - val_loss: 0.4842 - val_accuracy: 0.8356 - 2s/epoch - 4ms/step\n",
      "Epoch 14/30\n",
      "625/625 - 2s - loss: 0.0925 - accuracy: 0.9682 - val_loss: 0.5130 - val_accuracy: 0.8322 - 2s/epoch - 4ms/step\n",
      "Epoch 15/30\n",
      "625/625 - 2s - loss: 0.0833 - accuracy: 0.9721 - val_loss: 0.5478 - val_accuracy: 0.8291 - 2s/epoch - 4ms/step\n",
      "Epoch 16/30\n",
      "625/625 - 2s - loss: 0.0767 - accuracy: 0.9761 - val_loss: 0.5781 - val_accuracy: 0.8277 - 2s/epoch - 4ms/step\n",
      "Epoch 17/30\n",
      "625/625 - 2s - loss: 0.0697 - accuracy: 0.9782 - val_loss: 0.6227 - val_accuracy: 0.8250 - 2s/epoch - 4ms/step\n",
      "Epoch 18/30\n",
      "625/625 - 2s - loss: 0.0657 - accuracy: 0.9798 - val_loss: 0.6478 - val_accuracy: 0.8246 - 2s/epoch - 4ms/step\n",
      "Epoch 19/30\n",
      "625/625 - 2s - loss: 0.0606 - accuracy: 0.9805 - val_loss: 0.6858 - val_accuracy: 0.8213 - 2s/epoch - 4ms/step\n",
      "Epoch 20/30\n",
      "625/625 - 2s - loss: 0.0566 - accuracy: 0.9826 - val_loss: 0.7738 - val_accuracy: 0.8181 - 2s/epoch - 4ms/step\n",
      "Epoch 21/30\n",
      "625/625 - 2s - loss: 0.0505 - accuracy: 0.9857 - val_loss: 0.7904 - val_accuracy: 0.8173 - 2s/epoch - 4ms/step\n",
      "Epoch 22/30\n",
      "625/625 - 2s - loss: 0.0449 - accuracy: 0.9880 - val_loss: 0.8121 - val_accuracy: 0.8136 - 2s/epoch - 4ms/step\n",
      "Epoch 23/30\n",
      "625/625 - 2s - loss: 0.0428 - accuracy: 0.9880 - val_loss: 0.8506 - val_accuracy: 0.8142 - 2s/epoch - 4ms/step\n",
      "Epoch 24/30\n",
      "625/625 - 2s - loss: 0.0404 - accuracy: 0.9890 - val_loss: 0.8919 - val_accuracy: 0.8134 - 2s/epoch - 4ms/step\n",
      "Epoch 25/30\n",
      "625/625 - 2s - loss: 0.0391 - accuracy: 0.9880 - val_loss: 0.9500 - val_accuracy: 0.8131 - 2s/epoch - 4ms/step\n",
      "Epoch 26/30\n",
      "625/625 - 2s - loss: 0.0335 - accuracy: 0.9904 - val_loss: 0.9778 - val_accuracy: 0.8095 - 2s/epoch - 4ms/step\n",
      "Epoch 27/30\n",
      "625/625 - 3s - loss: 0.0322 - accuracy: 0.9912 - val_loss: 1.0273 - val_accuracy: 0.8113 - 3s/epoch - 4ms/step\n",
      "Epoch 28/30\n",
      "625/625 - 3s - loss: 0.0291 - accuracy: 0.9916 - val_loss: 1.0728 - val_accuracy: 0.8104 - 3s/epoch - 4ms/step\n",
      "Epoch 29/30\n",
      "625/625 - 3s - loss: 0.0263 - accuracy: 0.9930 - val_loss: 1.1126 - val_accuracy: 0.8093 - 3s/epoch - 4ms/step\n",
      "Epoch 30/30\n",
      "625/625 - 3s - loss: 0.0249 - accuracy: 0.9933 - val_loss: 1.1667 - val_accuracy: 0.8066 - 3s/epoch - 4ms/step\n"
     ]
    }
   ],
   "source": [
    "num_epochs = 30\n",
    "history = model.fit(training_padded, training_labels, epochs=num_epochs, validation_data=(testing_padded, test_labels), verbose=2)"
   ]
  },
  {
   "cell_type": "code",
   "execution_count": 20,
   "metadata": {},
   "outputs": [
    {
     "name": "stdout",
     "output_type": "stream",
     "text": [
      "1/1 [==============================] - 0s 85ms/step\n",
      "[[8.862545e-01]\n",
      " [8.370655e-09]]\n"
     ]
    }
   ],
   "source": [
    "sentence = [\"granny starting to fear spiders in the garden might be real\", \"game of thrones season finale showing this sunday night\"]\n",
    "sequences = tk.texts_to_sequences(sentence)\n",
    "padded = pad_sequences(sequences, maxlen=max_length, padding=padding_type, truncating=trunc_type)\n",
    "print(model.predict(padded))"
   ]
  },
  {
   "cell_type": "code",
   "execution_count": 21,
   "metadata": {},
   "outputs": [
    {
     "data": {
      "image/png": "[encoded data removed]",
      "text/plain": [
       "<Figure size 640x480 with 1 Axes>"
      ]
     },
     "metadata": {},
     "output_type": "display_data"
    },
    {
     "data": {
      "image/png": "[encoded data removed]",
      "text/plain": [
       "<Figure size 640x480 with 1 Axes>"
      ]
     },
     "metadata": {},
     "output_type": "display_data"
    }
   ],
   "source": [
    "from utils import plot_graph\n",
    "# History is an object returned by the model.fit() function  that contains the history of various metrices across\n",
    "# diffferent epochs ( for both training and validation set )\n",
    "plot_graph(history, \"accuracy\")\n",
    "plot_graph(history, \"loss\")"
   ]
  },
  {
   "cell_type": "code",
   "execution_count": 22,
   "metadata": {},
   "outputs": [
    {
     "name": "stdout",
     "output_type": "stream",
     "text": [
      "(10000, 16)\n"
     ]
    }
   ],
   "source": [
    "e = model.layers[0]\n",
    "weights = e.get_weights()[0]\n",
    "print(weights.shape) # shape: (vocab_size, embedding_dim)\n"
   ]
  },
  {
   "cell_type": "code",
   "execution_count": 26,
   "metadata": {},
   "outputs": [
    {
     "data": {
      "text/plain": [
       "array([  83, 4338,    1,    6, 2186,  137,  625,  181,   31,   28, 3008,\n",
       "         56,    0,    0,    0,    0,    0,    0,    0,    0,    0,    0,\n",
       "          0,    0,    0,    0,    0,    0,    0,    0,    0,    0,    0,\n",
       "          0,    0,    0,    0,    0,    0,    0,    0,    0,    0,    0,\n",
       "          0,    0,    0,    0,    0,    0,    0,    0,    0,    0,    0,\n",
       "          0,    0,    0,    0,    0,    0,    0,    0,    0,    0,    0,\n",
       "          0,    0,    0,    0,    0,    0,    0,    0,    0,    0,    0,\n",
       "          0,    0,    0,    0,    0,    0,    0,    0,    0,    0,    0,\n",
       "          0,    0,    0,    0,    0,    0,    0,    0,    0,    0,    0,\n",
       "          0])"
      ]
     },
     "execution_count": 26,
     "metadata": {},
     "output_type": "execute_result"
    }
   ],
   "source": [
    "testing_padded[0]"
   ]
  },
  {
   "cell_type": "code",
   "execution_count": 28,
   "metadata": {},
   "outputs": [
    {
     "name": "stdout",
     "output_type": "stream",
     "text": [
      "270/270 [==============================] - 1s 2ms/step\n"
     ]
    },
    {
     "data": {
      "text/plain": [
       "array([[0.],\n",
       "       [0.],\n",
       "       [0.],\n",
       "       [0.],\n",
       "       [0.],\n",
       "       [1.],\n",
       "       [1.]], dtype=float32)"
      ]
     },
     "execution_count": 28,
     "metadata": {},
     "output_type": "execute_result"
    }
   ],
   "source": [
    "y_pred = model.predict(testing_padded)  # Predict labels\n",
    "y_pred[0]\n",
    "for i in range(0,len(y_pred)):\n",
    "    if y_pred[i]>0.5:\n",
    "        y_pred[i] = 1\n",
    "    else:\n",
    "        y_pred[i] = 0\n",
    "\n",
    "y_pred[:7]\n",
    "\n"
   ]
  },
  {
   "cell_type": "code",
   "execution_count": 31,
   "metadata": {},
   "outputs": [
    {
     "name": "stdout",
     "output_type": "stream",
     "text": [
      "Model Accuracy: 80.66%\n"
     ]
    }
   ],
   "source": [
    "# Convert probabilities to binary class labels\n",
    "y_pred_binary = (y_pred >= 0.5).astype(int)\n",
    "\n",
    "from sklearn.metrics import accuracy_score\n",
    "accuracy = accuracy_score(test_labels, y_pred_binary)\n",
    "print(f\"Model Accuracy: {accuracy * 100:.2f}%\")\n"
   ]
  },
  {
   "cell_type": "code",
   "execution_count": 34,
   "metadata": {},
   "outputs": [
    {
     "name": "stdout",
     "output_type": "stream",
     "text": [
      "Classification Report:\n",
      "              precision    recall  f1-score   support\n",
      "\n",
      "           0       0.81      0.82      0.82      4524\n",
      "           1       0.80      0.79      0.80      4095\n",
      "\n",
      "    accuracy                           0.81      8619\n",
      "   macro avg       0.81      0.81      0.81      8619\n",
      "weighted avg       0.81      0.81      0.81      8619\n",
      "\n",
      "Weighted F1 Score: 0.81\n"
     ]
    }
   ],
   "source": [
    "from sklearn.metrics import classification_report, f1_score\n",
    "\n",
    "# Assuming y_test are the true labels and y_pred are the predicted class labels\n",
    "print(\"Classification Report:\")\n",
    "print(classification_report(test_labels, y_pred_binary))\n",
    "\n",
    "# Compute the F1 score\n",
    "f1 = f1_score(test_labels, y_pred_binary, average='weighted')  # Use 'micro', 'macro', or 'weighted' as needed\n",
    "print(f\"Weighted F1 Score: {f1:.2f}\")\n"
   ]
  },
  {
   "cell_type": "code",
   "execution_count": null,
   "metadata": {},
   "outputs": [
    {
     "data": {
      "image/png": "[encoded data removed]",
      "text/plain": [
       "<Figure size 640x480 with 2 Axes>"
      ]
     },
     "metadata": {},
     "output_type": "display_data"
    }
   ],
   "source": [
    "import numpy as np\n",
    "import matplotlib.pyplot as plt\n",
    "from sklearn.metrics import confusion_matrix, ConfusionMatrixDisplay\n",
    "\n",
    "# Compute confusion matrix\n",
    "cm = confusion_matrix(test_labels, y_pred_binary)\n",
    "\n",
    "# Ensure `display_labels` matches the number of classes in `y_test` and `y_pred`\n",
    "labels = list(set(test_labels))  # Unique labels\n",
    "disp = ConfusionMatrixDisplay(confusion_matrix=cm, display_labels=labels)\n",
    "\n",
    "# Plot confusion matrix\n",
    "disp.plot(cmap='Blues')\n",
    "plt.show()\n"
   ]
  },
  {
   "cell_type": "code",
   "execution_count": null,
   "metadata": {},
   "outputs": [],
   "source": []
  }
 ],
 "metadata": {
  "kernelspec": {
   "display_name": "Python 3",
   "language": "python",
   "name": "python3"
  },
  "language_info": {
   "codemirror_mode": {
    "name": "ipython",
    "version": 3
   },
   "file_extension": ".py",
   "mimetype": "text/x-python",
   "name": "python",
   "nbconvert_exporter": "python",
   "pygments_lexer": "ipython3",
   "version": "3.11.4"
  }
 },
 "nbformat": 4,
 "nbformat_minor": 2
}
